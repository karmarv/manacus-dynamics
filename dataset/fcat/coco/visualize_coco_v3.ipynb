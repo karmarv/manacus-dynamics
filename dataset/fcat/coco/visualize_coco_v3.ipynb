{
 "cells": [
  {
   "cell_type": "code",
   "execution_count": 1,
   "metadata": {},
   "outputs": [],
   "source": [
    "# ! pip install fiftyone"
   ]
  },
  {
   "cell_type": "code",
   "execution_count": 2,
   "metadata": {},
   "outputs": [],
   "source": [
    "import os\n",
    "import time\n",
    "import fiftyone as fo\n",
    "import fiftyone.zoo as foz"
   ]
  },
  {
   "cell_type": "markdown",
   "metadata": {},
   "source": [
    "## (A.) Visualize images in FCAT image dataset"
   ]
  },
  {
   "cell_type": "code",
   "execution_count": 3,
   "metadata": {},
   "outputs": [],
   "source": [
    "# Path of the dataset formatted in ~/images/**/*.jpg and ~/labels/**/*.txt\n",
    "dataset_dir=\"./fcat-manacus-v3\""
   ]
  },
  {
   "cell_type": "code",
   "execution_count": 4,
   "metadata": {},
   "outputs": [
    {
     "name": "stdout",
     "output_type": "stream",
     "text": [
      "\u001b[01;34m./fcat-manacus-v3\u001b[0m\n",
      "├── \u001b[01;34mall\u001b[0m\n",
      "│   ├── \u001b[01;34mimages\u001b[0m\n",
      "│   └── \u001b[00mimages.txt\u001b[0m\n",
      "├── \u001b[01;34mannotations\u001b[0m\n",
      "│   ├── \u001b[00mall.json\u001b[0m\n",
      "│   ├── \u001b[00mtrain.json\u001b[0m\n",
      "│   └── \u001b[00mval.json\u001b[0m\n",
      "├── \u001b[01;34mtrain\u001b[0m\n",
      "│   ├── \u001b[01;34mimages\u001b[0m\n",
      "│   └── \u001b[00mimages.txt\u001b[0m\n",
      "└── \u001b[01;34mval\u001b[0m\n",
      "    ├── \u001b[01;34mimages\u001b[0m\n",
      "    └── \u001b[00mimages.txt\u001b[0m\n",
      "\n",
      "7 directories, 6 files\n"
     ]
    }
   ],
   "source": [
    "! tree -L 2 $dataset_dir"
   ]
  },
  {
   "cell_type": "markdown",
   "metadata": {},
   "source": [
    "#### Load the dataset, using tags to mark the samples in each split"
   ]
  },
  {
   "cell_type": "code",
   "execution_count": 5,
   "metadata": {},
   "outputs": [],
   "source": [
    "# The type of the dataset being imported\n",
    "dataset_type = fo.types.COCODetectionDataset\n",
    "# The splits to load \n",
    "splits = [\"all\", \"train\", \"val\"] # \"train\", \"val\", "
   ]
  },
  {
   "cell_type": "code",
   "execution_count": null,
   "metadata": {},
   "outputs": [
    {
     "name": "stdout",
     "output_type": "stream",
     "text": [
      " 100% |███████████████| 1001/1001 [1.4s elapsed, 0s remaining, 705.2 samples/s]         \n"
     ]
    }
   ],
   "source": [
    "# Import the dataset\n",
    "name = \"export_coco_fcat_v1_\" + str(time.time()) + splits[0]\n",
    "dataset_all = fo.Dataset.from_dir(\n",
    "    name = name,\n",
    "    dataset_type=dataset_type,\n",
    "    data_path=os.path.join(dataset_dir, splits[0], \"images\"),\n",
    "    labels_path=os.path.join(dataset_dir, \"annotations\", \"{}.json\".format(splits[0])),\n",
    "    tags=splits[0]\n",
    ")"
   ]
  },
  {
   "cell_type": "code",
   "execution_count": null,
   "metadata": {},
   "outputs": [
    {
     "name": "stdout",
     "output_type": "stream",
     "text": [
      "{'samples_count': 1001, 'samples_bytes': 731983, 'samples_size': '714.8KB', 'total_bytes': 731983, 'total_size': '714.8KB'}\n"
     ]
    }
   ],
   "source": [
    "print(dataset_all.stats())"
   ]
  },
  {
   "cell_type": "markdown",
   "metadata": {},
   "source": [
    "### Creates a session and opens the App in the output of the cell"
   ]
  },
  {
   "cell_type": "code",
   "execution_count": null,
   "metadata": {},
   "outputs": [
    {
     "name": "stdout",
     "output_type": "stream",
     "text": [
      "Session launched. Run `session.show()` to open the App in a cell output.\n"
     ]
    }
   ],
   "source": [
    "# Launch a remote App instance that you'll connect to from your local machine\n",
    "#session = fo.launch_app(dataset_all, remote=True, address=\"0.0.0.0\", port=5005)\n",
    "session_a = fo.launch_app(dataset_all, address=\"0.0.0.0\")"
   ]
  },
  {
   "cell_type": "code",
   "execution_count": 12,
   "metadata": {},
   "outputs": [
    {
     "data": {
      "text/html": [
       "\n",
       "        <iframe\n",
       "            width=\"100%\"\n",
       "            height=\"800\"\n",
       "            src=\"http://localhost:5151/?notebook=True&subscription=b5b0ec70-888a-46cd-938e-d2dbeefa202c\"\n",
       "            frameborder=\"0\"\n",
       "            allowfullscreen\n",
       "            \n",
       "        ></iframe>\n",
       "        "
      ],
      "text/plain": [
       "<IPython.lib.display.IFrame at 0x72e45d5b8d00>"
      ]
     },
     "metadata": {},
     "output_type": "display_data"
    }
   ],
   "source": [
    "session_a.show()\n",
    "# Launch in http://localhost:5005/datasets/\n"
   ]
  },
  {
   "cell_type": "code",
   "execution_count": 15,
   "metadata": {},
   "outputs": [],
   "source": [
    "# Replace active App instance with screenshot so App state is viewable offline\n",
    "session_a.freeze()"
   ]
  },
  {
   "cell_type": "code",
   "execution_count": null,
   "metadata": {},
   "outputs": [],
   "source": []
  },
  {
   "cell_type": "markdown",
   "metadata": {},
   "source": [
    "Train & Validation Sets"
   ]
  },
  {
   "cell_type": "code",
   "execution_count": 16,
   "metadata": {},
   "outputs": [
    {
     "name": "stdout",
     "output_type": "stream",
     "text": [
      " 100% |█████████████████| 811/811 [1.2s elapsed, 0s remaining, 706.6 samples/s]         \n"
     ]
    }
   ],
   "source": [
    "# Import the dataset\n",
    "split = splits[1]\n",
    "name = \"export_coco_fcat_v1_\" + str(time.time()) + split\n",
    "dataset_train = fo.Dataset.from_dir(\n",
    "    name = name,\n",
    "    dataset_type=dataset_type,\n",
    "    data_path=os.path.join(dataset_dir, split, \"images\"),\n",
    "    labels_path=os.path.join(dataset_dir, \"annotations\", \"{}.json\".format(split)),\n",
    "    tags=split\n",
    ")"
   ]
  },
  {
   "cell_type": "code",
   "execution_count": 17,
   "metadata": {},
   "outputs": [
    {
     "name": "stdout",
     "output_type": "stream",
     "text": [
      "Session launched. Run `session.show()` to open the App in a cell output.\n"
     ]
    },
    {
     "data": {
      "text/html": [
       "\n",
       "        <iframe\n",
       "            width=\"100%\"\n",
       "            height=\"800\"\n",
       "            src=\"http://0.0.0.0:5005/?notebook=True&subscription=44bfb881-1769-4d51-8aa9-11c4259aea9d\"\n",
       "            frameborder=\"0\"\n",
       "            allowfullscreen\n",
       "            \n",
       "        ></iframe>\n",
       "        "
      ],
      "text/plain": [
       "<IPython.lib.display.IFrame at 0x72e45d43e880>"
      ]
     },
     "metadata": {},
     "output_type": "display_data"
    }
   ],
   "source": [
    "session_b = fo.launch_app(dataset_train, auto=False, address=\"0.0.0.0\", port=5005)\n",
    "session_b.show()\n",
    "# Launch in http://localhost:5005/datasets/"
   ]
  },
  {
   "cell_type": "code",
   "execution_count": null,
   "metadata": {},
   "outputs": [],
   "source": []
  },
  {
   "cell_type": "code",
   "execution_count": 6,
   "metadata": {},
   "outputs": [
    {
     "name": "stdout",
     "output_type": "stream",
     "text": [
      " 100% |█████████████████| 218/218 [283.6ms elapsed, 0s remaining, 777.8 samples/s] \n"
     ]
    }
   ],
   "source": [
    "# Import the dataset\n",
    "split = splits[2]\n",
    "name = \"export_coco_fcat_v1_\" + str(time.time()) + split\n",
    "dataset_train = fo.Dataset.from_dir(\n",
    "    name = name,\n",
    "    dataset_type=dataset_type,\n",
    "    data_path=os.path.join(dataset_dir, split, \"images\"),\n",
    "    labels_path=os.path.join(dataset_dir, \"annotations\", \"{}.json\".format(split)),\n",
    "    tags=split\n",
    ")"
   ]
  },
  {
   "cell_type": "code",
   "execution_count": 7,
   "metadata": {},
   "outputs": [
    {
     "name": "stdout",
     "output_type": "stream",
     "text": [
      "Session launched. Run `session.show()` to open the App in a cell output.\n"
     ]
    },
    {
     "data": {
      "text/html": [
       "\n",
       "        <iframe\n",
       "            width=\"100%\"\n",
       "            height=\"800\"\n",
       "            src=\"http://0.0.0.0:5005/?notebook=True&subscription=58ab30d0-f5d6-4ac5-b68c-eec43cde1fbb\"\n",
       "            frameborder=\"0\"\n",
       "            allowfullscreen\n",
       "            \n",
       "        ></iframe>\n",
       "        "
      ],
      "text/plain": [
       "<IPython.lib.display.IFrame at 0x74a37e281880>"
      ]
     },
     "metadata": {},
     "output_type": "display_data"
    }
   ],
   "source": [
    "session_b = fo.launch_app(dataset_train, auto=False, address=\"0.0.0.0\", port=5005)\n",
    "session_b.show()\n",
    "# Launch in http://localhost:5005/datasets/"
   ]
  },
  {
   "cell_type": "code",
   "execution_count": null,
   "metadata": {},
   "outputs": [],
   "source": []
  }
 ],
 "metadata": {
  "kernelspec": {
   "display_name": "rdd",
   "language": "python",
   "name": "python3"
  },
  "language_info": {
   "codemirror_mode": {
    "name": "ipython",
    "version": 3
   },
   "file_extension": ".py",
   "mimetype": "text/x-python",
   "name": "python",
   "nbconvert_exporter": "python",
   "pygments_lexer": "ipython3",
   "version": "3.9.19"
  }
 },
 "nbformat": 4,
 "nbformat_minor": 4
}
